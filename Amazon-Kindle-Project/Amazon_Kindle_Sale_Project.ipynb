{
 "cells": [
  {
   "cell_type": "markdown",
   "metadata": {},
   "source": [
    "# Data Preprocessing "
   ]
  },
  {
   "cell_type": "code",
   "execution_count": 81,
   "metadata": {},
   "outputs": [],
   "source": [
    "import numpy as np\n",
    "import pandas as pd\n",
    "import matplotlib.pyplot as plt \n",
    "%matplotlib inline\n",
    "import seaborn as sns"
   ]
  },
  {
   "cell_type": "code",
   "execution_count": 82,
   "metadata": {},
   "outputs": [],
   "source": [
    "df = pd.read_csv(r\"C:\\Users\\sunil\\Desktop\\PythonAnalysis_files\\kindle_data-v2.csv\",encoding= 'unicode_escape')"
   ]
  },
  {
   "cell_type": "code",
   "execution_count": 83,
   "metadata": {},
   "outputs": [
    {
     "data": {
      "text/plain": [
       "(133102, 16)"
      ]
     },
     "execution_count": 83,
     "metadata": {},
     "output_type": "execute_result"
    }
   ],
   "source": [
    "df.shape"
   ]
  },
  {
   "cell_type": "code",
   "execution_count": 84,
   "metadata": {},
   "outputs": [
    {
     "data": {
      "text/html": [
       "<div>\n",
       "<style scoped>\n",
       "    .dataframe tbody tr th:only-of-type {\n",
       "        vertical-align: middle;\n",
       "    }\n",
       "\n",
       "    .dataframe tbody tr th {\n",
       "        vertical-align: top;\n",
       "    }\n",
       "\n",
       "    .dataframe thead th {\n",
       "        text-align: right;\n",
       "    }\n",
       "</style>\n",
       "<table border=\"1\" class=\"dataframe\">\n",
       "  <thead>\n",
       "    <tr style=\"text-align: right;\">\n",
       "      <th></th>\n",
       "      <th>asin</th>\n",
       "      <th>title</th>\n",
       "      <th>author</th>\n",
       "      <th>soldBy</th>\n",
       "      <th>imgUrl</th>\n",
       "      <th>productURL</th>\n",
       "      <th>stars</th>\n",
       "      <th>reviews</th>\n",
       "      <th>price</th>\n",
       "      <th>isKindleUnlimited</th>\n",
       "      <th>category_id</th>\n",
       "      <th>isBestSeller</th>\n",
       "      <th>isEditorsPick</th>\n",
       "      <th>isGoodReadsChoice</th>\n",
       "      <th>publishedDate</th>\n",
       "      <th>category_name</th>\n",
       "    </tr>\n",
       "  </thead>\n",
       "  <tbody>\n",
       "    <tr>\n",
       "      <th>0</th>\n",
       "      <td>B00TZE87S4</td>\n",
       "      <td>Adult Children of Emotionally Immature Parents...</td>\n",
       "      <td>Lindsay C. Gibson</td>\n",
       "      <td>Amazon.com Services LLC</td>\n",
       "      <td>https://m.media-amazon.com/images/I/713KZTsaYp...</td>\n",
       "      <td>https://www.amazon.com/dp/B00TZE87S4</td>\n",
       "      <td>4.8</td>\n",
       "      <td>0</td>\n",
       "      <td>9.99</td>\n",
       "      <td>False</td>\n",
       "      <td>6</td>\n",
       "      <td>True</td>\n",
       "      <td>False</td>\n",
       "      <td>False</td>\n",
       "      <td>2015-06-01</td>\n",
       "      <td>Parenting &amp; Relationships</td>\n",
       "    </tr>\n",
       "    <tr>\n",
       "      <th>1</th>\n",
       "      <td>B08WCKY8MB</td>\n",
       "      <td>From Strength to Strength: Finding Success, Ha...</td>\n",
       "      <td>Arthur C. Brooks</td>\n",
       "      <td>Penguin Group (USA) LLC</td>\n",
       "      <td>https://m.media-amazon.com/images/I/A1LZcJFs9E...</td>\n",
       "      <td>https://www.amazon.com/dp/B08WCKY8MB</td>\n",
       "      <td>4.4</td>\n",
       "      <td>0</td>\n",
       "      <td>16.99</td>\n",
       "      <td>False</td>\n",
       "      <td>6</td>\n",
       "      <td>False</td>\n",
       "      <td>False</td>\n",
       "      <td>False</td>\n",
       "      <td>2022-02-15</td>\n",
       "      <td>Parenting &amp; Relationships</td>\n",
       "    </tr>\n",
       "    <tr>\n",
       "      <th>2</th>\n",
       "      <td>B09KPS84CJ</td>\n",
       "      <td>Good Inside: A Guide to Becoming the Parent Yo...</td>\n",
       "      <td>Becky Kennedy</td>\n",
       "      <td>HarperCollins Publishers</td>\n",
       "      <td>https://m.media-amazon.com/images/I/71RIWM0sv6...</td>\n",
       "      <td>https://www.amazon.com/dp/B09KPS84CJ</td>\n",
       "      <td>4.8</td>\n",
       "      <td>0</td>\n",
       "      <td>16.99</td>\n",
       "      <td>False</td>\n",
       "      <td>6</td>\n",
       "      <td>False</td>\n",
       "      <td>True</td>\n",
       "      <td>False</td>\n",
       "      <td>2022-09-13</td>\n",
       "      <td>Parenting &amp; Relationships</td>\n",
       "    </tr>\n",
       "    <tr>\n",
       "      <th>3</th>\n",
       "      <td>B07S7QPG6J</td>\n",
       "      <td>Everything I Know About Love: A Memoir</td>\n",
       "      <td>Dolly Alderton</td>\n",
       "      <td>HarperCollins Publishers</td>\n",
       "      <td>https://m.media-amazon.com/images/I/71QdQpTiKZ...</td>\n",
       "      <td>https://www.amazon.com/dp/B07S7QPG6J</td>\n",
       "      <td>4.2</td>\n",
       "      <td>0</td>\n",
       "      <td>9.95</td>\n",
       "      <td>True</td>\n",
       "      <td>6</td>\n",
       "      <td>False</td>\n",
       "      <td>True</td>\n",
       "      <td>False</td>\n",
       "      <td>2020-02-25</td>\n",
       "      <td>Parenting &amp; Relationships</td>\n",
       "    </tr>\n",
       "    <tr>\n",
       "      <th>4</th>\n",
       "      <td>B00N6PEQV0</td>\n",
       "      <td>The Seven Principles for Making Marriage Work:...</td>\n",
       "      <td>John Gottman</td>\n",
       "      <td>Random House LLC</td>\n",
       "      <td>https://m.media-amazon.com/images/I/813o4WOs+w...</td>\n",
       "      <td>https://www.amazon.com/dp/B00N6PEQV0</td>\n",
       "      <td>4.7</td>\n",
       "      <td>0</td>\n",
       "      <td>13.99</td>\n",
       "      <td>False</td>\n",
       "      <td>6</td>\n",
       "      <td>False</td>\n",
       "      <td>False</td>\n",
       "      <td>False</td>\n",
       "      <td>2015-05-05</td>\n",
       "      <td>Parenting &amp; Relationships</td>\n",
       "    </tr>\n",
       "  </tbody>\n",
       "</table>\n",
       "</div>"
      ],
      "text/plain": [
       "         asin                                              title  \\\n",
       "0  B00TZE87S4  Adult Children of Emotionally Immature Parents...   \n",
       "1  B08WCKY8MB  From Strength to Strength: Finding Success, Ha...   \n",
       "2  B09KPS84CJ  Good Inside: A Guide to Becoming the Parent Yo...   \n",
       "3  B07S7QPG6J             Everything I Know About Love: A Memoir   \n",
       "4  B00N6PEQV0  The Seven Principles for Making Marriage Work:...   \n",
       "\n",
       "              author                    soldBy  \\\n",
       "0  Lindsay C. Gibson   Amazon.com Services LLC   \n",
       "1   Arthur C. Brooks   Penguin Group (USA) LLC   \n",
       "2      Becky Kennedy  HarperCollins Publishers   \n",
       "3     Dolly Alderton  HarperCollins Publishers   \n",
       "4       John Gottman          Random House LLC   \n",
       "\n",
       "                                              imgUrl  \\\n",
       "0  https://m.media-amazon.com/images/I/713KZTsaYp...   \n",
       "1  https://m.media-amazon.com/images/I/A1LZcJFs9E...   \n",
       "2  https://m.media-amazon.com/images/I/71RIWM0sv6...   \n",
       "3  https://m.media-amazon.com/images/I/71QdQpTiKZ...   \n",
       "4  https://m.media-amazon.com/images/I/813o4WOs+w...   \n",
       "\n",
       "                             productURL  stars  reviews  price  \\\n",
       "0  https://www.amazon.com/dp/B00TZE87S4    4.8        0   9.99   \n",
       "1  https://www.amazon.com/dp/B08WCKY8MB    4.4        0  16.99   \n",
       "2  https://www.amazon.com/dp/B09KPS84CJ    4.8        0  16.99   \n",
       "3  https://www.amazon.com/dp/B07S7QPG6J    4.2        0   9.95   \n",
       "4  https://www.amazon.com/dp/B00N6PEQV0    4.7        0  13.99   \n",
       "\n",
       "   isKindleUnlimited  category_id  isBestSeller  isEditorsPick  \\\n",
       "0              False            6          True          False   \n",
       "1              False            6         False          False   \n",
       "2              False            6         False           True   \n",
       "3               True            6         False           True   \n",
       "4              False            6         False          False   \n",
       "\n",
       "   isGoodReadsChoice publishedDate              category_name  \n",
       "0              False    2015-06-01  Parenting & Relationships  \n",
       "1              False    2022-02-15  Parenting & Relationships  \n",
       "2              False    2022-09-13  Parenting & Relationships  \n",
       "3              False    2020-02-25  Parenting & Relationships  \n",
       "4              False    2015-05-05  Parenting & Relationships  "
      ]
     },
     "execution_count": 84,
     "metadata": {},
     "output_type": "execute_result"
    }
   ],
   "source": [
    "df.head()"
   ]
  },
  {
   "cell_type": "code",
   "execution_count": 85,
   "metadata": {},
   "outputs": [
    {
     "data": {
      "text/html": [
       "<div>\n",
       "<style scoped>\n",
       "    .dataframe tbody tr th:only-of-type {\n",
       "        vertical-align: middle;\n",
       "    }\n",
       "\n",
       "    .dataframe tbody tr th {\n",
       "        vertical-align: top;\n",
       "    }\n",
       "\n",
       "    .dataframe thead th {\n",
       "        text-align: right;\n",
       "    }\n",
       "</style>\n",
       "<table border=\"1\" class=\"dataframe\">\n",
       "  <thead>\n",
       "    <tr style=\"text-align: right;\">\n",
       "      <th></th>\n",
       "      <th>asin</th>\n",
       "      <th>title</th>\n",
       "      <th>author</th>\n",
       "      <th>soldBy</th>\n",
       "      <th>imgUrl</th>\n",
       "      <th>productURL</th>\n",
       "      <th>stars</th>\n",
       "      <th>reviews</th>\n",
       "      <th>price</th>\n",
       "      <th>isKindleUnlimited</th>\n",
       "      <th>category_id</th>\n",
       "      <th>isBestSeller</th>\n",
       "      <th>isEditorsPick</th>\n",
       "      <th>isGoodReadsChoice</th>\n",
       "      <th>publishedDate</th>\n",
       "      <th>category_name</th>\n",
       "    </tr>\n",
       "  </thead>\n",
       "  <tbody>\n",
       "    <tr>\n",
       "      <th>133097</th>\n",
       "      <td>B0C3SJDLK8</td>\n",
       "      <td>Anna Karenina</td>\n",
       "      <td>Leo Tolstoy</td>\n",
       "      <td>De Marque</td>\n",
       "      <td>https://m.media-amazon.com/images/I/61RXEyMctk...</td>\n",
       "      <td>https://www.amazon.com/dp/B0C3SJDLK8</td>\n",
       "      <td>4.7</td>\n",
       "      <td>0</td>\n",
       "      <td>0.00</td>\n",
       "      <td>False</td>\n",
       "      <td>29</td>\n",
       "      <td>True</td>\n",
       "      <td>False</td>\n",
       "      <td>False</td>\n",
       "      <td>2023-09-15</td>\n",
       "      <td>Nonfiction</td>\n",
       "    </tr>\n",
       "    <tr>\n",
       "      <th>133098</th>\n",
       "      <td>B09DW752Y1</td>\n",
       "      <td>Scary Smart: Scary Smart: The Future of Artifi...</td>\n",
       "      <td>Mo Gawdat</td>\n",
       "      <td>Amazon.com Services LLC</td>\n",
       "      <td>https://m.media-amazon.com/images/I/71tjf6R-Wa...</td>\n",
       "      <td>https://www.amazon.com/dp/B09DW752Y1</td>\n",
       "      <td>4.4</td>\n",
       "      <td>0</td>\n",
       "      <td>9.99</td>\n",
       "      <td>False</td>\n",
       "      <td>29</td>\n",
       "      <td>False</td>\n",
       "      <td>False</td>\n",
       "      <td>False</td>\n",
       "      <td>2021-09-30</td>\n",
       "      <td>Nonfiction</td>\n",
       "    </tr>\n",
       "    <tr>\n",
       "      <th>133099</th>\n",
       "      <td>B0CFWHPJTN</td>\n",
       "      <td>The Count of Monte Cristo: The Original Unabri...</td>\n",
       "      <td>Alexandre Dumas</td>\n",
       "      <td>De Marque</td>\n",
       "      <td>https://m.media-amazon.com/images/I/71zcCb5Pvu...</td>\n",
       "      <td>https://www.amazon.com/dp/B0CFWHPJTN</td>\n",
       "      <td>4.8</td>\n",
       "      <td>0</td>\n",
       "      <td>1.99</td>\n",
       "      <td>False</td>\n",
       "      <td>29</td>\n",
       "      <td>True</td>\n",
       "      <td>False</td>\n",
       "      <td>False</td>\n",
       "      <td>2023-09-15</td>\n",
       "      <td>Nonfiction</td>\n",
       "    </tr>\n",
       "    <tr>\n",
       "      <th>133100</th>\n",
       "      <td>B0C1KMFXJC</td>\n",
       "      <td>War And Peace</td>\n",
       "      <td>Leo Tolstoy</td>\n",
       "      <td>De Marque</td>\n",
       "      <td>https://m.media-amazon.com/images/I/715QpZlzmi...</td>\n",
       "      <td>https://www.amazon.com/dp/B0C1KMFXJC</td>\n",
       "      <td>4.7</td>\n",
       "      <td>0</td>\n",
       "      <td>0.00</td>\n",
       "      <td>False</td>\n",
       "      <td>29</td>\n",
       "      <td>True</td>\n",
       "      <td>False</td>\n",
       "      <td>False</td>\n",
       "      <td>2023-08-25</td>\n",
       "      <td>Nonfiction</td>\n",
       "    </tr>\n",
       "    <tr>\n",
       "      <th>133101</th>\n",
       "      <td>B0BS1KYZB6</td>\n",
       "      <td>Pride and Prejudice</td>\n",
       "      <td>Jane Austen</td>\n",
       "      <td>De Marque</td>\n",
       "      <td>https://m.media-amazon.com/images/I/81Scutrtj4...</td>\n",
       "      <td>https://www.amazon.com/dp/B0BS1KYZB6</td>\n",
       "      <td>4.7</td>\n",
       "      <td>0</td>\n",
       "      <td>0.00</td>\n",
       "      <td>False</td>\n",
       "      <td>29</td>\n",
       "      <td>False</td>\n",
       "      <td>False</td>\n",
       "      <td>False</td>\n",
       "      <td>2023-10-01</td>\n",
       "      <td>Nonfiction</td>\n",
       "    </tr>\n",
       "  </tbody>\n",
       "</table>\n",
       "</div>"
      ],
      "text/plain": [
       "              asin                                              title  \\\n",
       "133097  B0C3SJDLK8                                      Anna Karenina   \n",
       "133098  B09DW752Y1  Scary Smart: Scary Smart: The Future of Artifi...   \n",
       "133099  B0CFWHPJTN  The Count of Monte Cristo: The Original Unabri...   \n",
       "133100  B0C1KMFXJC                                      War And Peace   \n",
       "133101  B0BS1KYZB6                                Pride and Prejudice   \n",
       "\n",
       "                 author                   soldBy  \\\n",
       "133097      Leo Tolstoy                De Marque   \n",
       "133098        Mo Gawdat  Amazon.com Services LLC   \n",
       "133099  Alexandre Dumas                De Marque   \n",
       "133100      Leo Tolstoy                De Marque   \n",
       "133101      Jane Austen                De Marque   \n",
       "\n",
       "                                                   imgUrl  \\\n",
       "133097  https://m.media-amazon.com/images/I/61RXEyMctk...   \n",
       "133098  https://m.media-amazon.com/images/I/71tjf6R-Wa...   \n",
       "133099  https://m.media-amazon.com/images/I/71zcCb5Pvu...   \n",
       "133100  https://m.media-amazon.com/images/I/715QpZlzmi...   \n",
       "133101  https://m.media-amazon.com/images/I/81Scutrtj4...   \n",
       "\n",
       "                                  productURL  stars  reviews  price  \\\n",
       "133097  https://www.amazon.com/dp/B0C3SJDLK8    4.7        0   0.00   \n",
       "133098  https://www.amazon.com/dp/B09DW752Y1    4.4        0   9.99   \n",
       "133099  https://www.amazon.com/dp/B0CFWHPJTN    4.8        0   1.99   \n",
       "133100  https://www.amazon.com/dp/B0C1KMFXJC    4.7        0   0.00   \n",
       "133101  https://www.amazon.com/dp/B0BS1KYZB6    4.7        0   0.00   \n",
       "\n",
       "        isKindleUnlimited  category_id  isBestSeller  isEditorsPick  \\\n",
       "133097              False           29          True          False   \n",
       "133098              False           29         False          False   \n",
       "133099              False           29          True          False   \n",
       "133100              False           29          True          False   \n",
       "133101              False           29         False          False   \n",
       "\n",
       "        isGoodReadsChoice publishedDate category_name  \n",
       "133097              False    2023-09-15    Nonfiction  \n",
       "133098              False    2021-09-30    Nonfiction  \n",
       "133099              False    2023-09-15    Nonfiction  \n",
       "133100              False    2023-08-25    Nonfiction  \n",
       "133101              False    2023-10-01    Nonfiction  "
      ]
     },
     "execution_count": 85,
     "metadata": {},
     "output_type": "execute_result"
    }
   ],
   "source": [
    "df.tail()"
   ]
  },
  {
   "cell_type": "code",
   "execution_count": 86,
   "metadata": {},
   "outputs": [
    {
     "name": "stdout",
     "output_type": "stream",
     "text": [
      "<class 'pandas.core.frame.DataFrame'>\n",
      "RangeIndex: 133102 entries, 0 to 133101\n",
      "Data columns (total 16 columns):\n",
      " #   Column             Non-Null Count   Dtype  \n",
      "---  ------             --------------   -----  \n",
      " 0   asin               133102 non-null  object \n",
      " 1   title              133102 non-null  object \n",
      " 2   author             132677 non-null  object \n",
      " 3   soldBy             123869 non-null  object \n",
      " 4   imgUrl             133102 non-null  object \n",
      " 5   productURL         133102 non-null  object \n",
      " 6   stars              133102 non-null  float64\n",
      " 7   reviews            133102 non-null  int64  \n",
      " 8   price              133102 non-null  float64\n",
      " 9   isKindleUnlimited  133102 non-null  bool   \n",
      " 10  category_id        133102 non-null  int64  \n",
      " 11  isBestSeller       133102 non-null  bool   \n",
      " 12  isEditorsPick      133102 non-null  bool   \n",
      " 13  isGoodReadsChoice  133102 non-null  bool   \n",
      " 14  publishedDate      84086 non-null   object \n",
      " 15  category_name      133102 non-null  object \n",
      "dtypes: bool(4), float64(2), int64(2), object(8)\n",
      "memory usage: 12.7+ MB\n"
     ]
    }
   ],
   "source": [
    "df.info()"
   ]
  },
  {
   "cell_type": "code",
   "execution_count": 87,
   "metadata": {},
   "outputs": [
    {
     "data": {
      "text/plain": [
       "asin                 133102\n",
       "title                131913\n",
       "author                72805\n",
       "soldBy                   49\n",
       "imgUrl               132909\n",
       "productURL           133102\n",
       "stars                    38\n",
       "reviews                8441\n",
       "price                  4795\n",
       "isKindleUnlimited         2\n",
       "category_id              31\n",
       "isBestSeller              2\n",
       "isEditorsPick             2\n",
       "isGoodReadsChoice         2\n",
       "publishedDate          7157\n",
       "category_name            31\n",
       "dtype: int64"
      ]
     },
     "execution_count": 87,
     "metadata": {},
     "output_type": "execute_result"
    }
   ],
   "source": [
    "df.nunique()"
   ]
  },
  {
   "cell_type": "code",
   "execution_count": 88,
   "metadata": {},
   "outputs": [
    {
     "data": {
      "text/plain": [
       "asin                     0\n",
       "title                    0\n",
       "author                 425\n",
       "soldBy                9233\n",
       "imgUrl                   0\n",
       "productURL               0\n",
       "stars                    0\n",
       "reviews                  0\n",
       "price                    0\n",
       "isKindleUnlimited        0\n",
       "category_id              0\n",
       "isBestSeller             0\n",
       "isEditorsPick            0\n",
       "isGoodReadsChoice        0\n",
       "publishedDate        49016\n",
       "category_name            0\n",
       "dtype: int64"
      ]
     },
     "execution_count": 88,
     "metadata": {},
     "output_type": "execute_result"
    }
   ],
   "source": [
    "#count of null values\n",
    "df.isnull().sum()"
   ]
  },
  {
   "cell_type": "code",
   "execution_count": 89,
   "metadata": {},
   "outputs": [],
   "source": [
    "df.dropna(inplace=True)"
   ]
  },
  {
   "cell_type": "code",
   "execution_count": 90,
   "metadata": {},
   "outputs": [
    {
     "data": {
      "text/plain": [
       "asin                 0\n",
       "title                0\n",
       "author               0\n",
       "soldBy               0\n",
       "imgUrl               0\n",
       "productURL           0\n",
       "stars                0\n",
       "reviews              0\n",
       "price                0\n",
       "isKindleUnlimited    0\n",
       "category_id          0\n",
       "isBestSeller         0\n",
       "isEditorsPick        0\n",
       "isGoodReadsChoice    0\n",
       "publishedDate        0\n",
       "category_name        0\n",
       "dtype: int64"
      ]
     },
     "execution_count": 90,
     "metadata": {},
     "output_type": "execute_result"
    }
   ],
   "source": [
    "df.isnull().sum()"
   ]
  },
  {
   "cell_type": "code",
   "execution_count": 92,
   "metadata": {},
   "outputs": [
    {
     "data": {
      "text/html": [
       "<div>\n",
       "<style scoped>\n",
       "    .dataframe tbody tr th:only-of-type {\n",
       "        vertical-align: middle;\n",
       "    }\n",
       "\n",
       "    .dataframe tbody tr th {\n",
       "        vertical-align: top;\n",
       "    }\n",
       "\n",
       "    .dataframe thead th {\n",
       "        text-align: right;\n",
       "    }\n",
       "</style>\n",
       "<table border=\"1\" class=\"dataframe\">\n",
       "  <thead>\n",
       "    <tr style=\"text-align: right;\">\n",
       "      <th></th>\n",
       "      <th>asin</th>\n",
       "      <th>title</th>\n",
       "      <th>author</th>\n",
       "      <th>soldBy</th>\n",
       "      <th>imgUrl</th>\n",
       "      <th>productURL</th>\n",
       "      <th>stars</th>\n",
       "      <th>reviews</th>\n",
       "      <th>price</th>\n",
       "      <th>isKindleUnlimited</th>\n",
       "      <th>category_id</th>\n",
       "      <th>isBestSeller</th>\n",
       "      <th>isEditorsPick</th>\n",
       "      <th>isGoodReadsChoice</th>\n",
       "      <th>publishedDate</th>\n",
       "      <th>category_name</th>\n",
       "    </tr>\n",
       "  </thead>\n",
       "  <tbody>\n",
       "    <tr>\n",
       "      <th>0</th>\n",
       "      <td>B00TZE87S4</td>\n",
       "      <td>Adult Children of Emotionally Immature Parents...</td>\n",
       "      <td>Lindsay C. Gibson</td>\n",
       "      <td>Amazon.com Services LLC</td>\n",
       "      <td>https://m.media-amazon.com/images/I/713KZTsaYp...</td>\n",
       "      <td>https://www.amazon.com/dp/B00TZE87S4</td>\n",
       "      <td>4.8</td>\n",
       "      <td>0</td>\n",
       "      <td>9.99</td>\n",
       "      <td>False</td>\n",
       "      <td>6</td>\n",
       "      <td>True</td>\n",
       "      <td>False</td>\n",
       "      <td>False</td>\n",
       "      <td>2015-06-01</td>\n",
       "      <td>Parenting &amp; Relationships</td>\n",
       "    </tr>\n",
       "    <tr>\n",
       "      <th>1</th>\n",
       "      <td>B08WCKY8MB</td>\n",
       "      <td>From Strength to Strength: Finding Success, Ha...</td>\n",
       "      <td>Arthur C. Brooks</td>\n",
       "      <td>Penguin Group (USA) LLC</td>\n",
       "      <td>https://m.media-amazon.com/images/I/A1LZcJFs9E...</td>\n",
       "      <td>https://www.amazon.com/dp/B08WCKY8MB</td>\n",
       "      <td>4.4</td>\n",
       "      <td>0</td>\n",
       "      <td>16.99</td>\n",
       "      <td>False</td>\n",
       "      <td>6</td>\n",
       "      <td>False</td>\n",
       "      <td>False</td>\n",
       "      <td>False</td>\n",
       "      <td>2022-02-15</td>\n",
       "      <td>Parenting &amp; Relationships</td>\n",
       "    </tr>\n",
       "    <tr>\n",
       "      <th>2</th>\n",
       "      <td>B09KPS84CJ</td>\n",
       "      <td>Good Inside: A Guide to Becoming the Parent Yo...</td>\n",
       "      <td>Becky Kennedy</td>\n",
       "      <td>HarperCollins Publishers</td>\n",
       "      <td>https://m.media-amazon.com/images/I/71RIWM0sv6...</td>\n",
       "      <td>https://www.amazon.com/dp/B09KPS84CJ</td>\n",
       "      <td>4.8</td>\n",
       "      <td>0</td>\n",
       "      <td>16.99</td>\n",
       "      <td>False</td>\n",
       "      <td>6</td>\n",
       "      <td>False</td>\n",
       "      <td>True</td>\n",
       "      <td>False</td>\n",
       "      <td>2022-09-13</td>\n",
       "      <td>Parenting &amp; Relationships</td>\n",
       "    </tr>\n",
       "    <tr>\n",
       "      <th>3</th>\n",
       "      <td>B07S7QPG6J</td>\n",
       "      <td>Everything I Know About Love: A Memoir</td>\n",
       "      <td>Dolly Alderton</td>\n",
       "      <td>HarperCollins Publishers</td>\n",
       "      <td>https://m.media-amazon.com/images/I/71QdQpTiKZ...</td>\n",
       "      <td>https://www.amazon.com/dp/B07S7QPG6J</td>\n",
       "      <td>4.2</td>\n",
       "      <td>0</td>\n",
       "      <td>9.95</td>\n",
       "      <td>True</td>\n",
       "      <td>6</td>\n",
       "      <td>False</td>\n",
       "      <td>True</td>\n",
       "      <td>False</td>\n",
       "      <td>2020-02-25</td>\n",
       "      <td>Parenting &amp; Relationships</td>\n",
       "    </tr>\n",
       "    <tr>\n",
       "      <th>4</th>\n",
       "      <td>B00N6PEQV0</td>\n",
       "      <td>The Seven Principles for Making Marriage Work:...</td>\n",
       "      <td>John Gottman</td>\n",
       "      <td>Random House LLC</td>\n",
       "      <td>https://m.media-amazon.com/images/I/813o4WOs+w...</td>\n",
       "      <td>https://www.amazon.com/dp/B00N6PEQV0</td>\n",
       "      <td>4.7</td>\n",
       "      <td>0</td>\n",
       "      <td>13.99</td>\n",
       "      <td>False</td>\n",
       "      <td>6</td>\n",
       "      <td>False</td>\n",
       "      <td>False</td>\n",
       "      <td>False</td>\n",
       "      <td>2015-05-05</td>\n",
       "      <td>Parenting &amp; Relationships</td>\n",
       "    </tr>\n",
       "  </tbody>\n",
       "</table>\n",
       "</div>"
      ],
      "text/plain": [
       "         asin                                              title  \\\n",
       "0  B00TZE87S4  Adult Children of Emotionally Immature Parents...   \n",
       "1  B08WCKY8MB  From Strength to Strength: Finding Success, Ha...   \n",
       "2  B09KPS84CJ  Good Inside: A Guide to Becoming the Parent Yo...   \n",
       "3  B07S7QPG6J             Everything I Know About Love: A Memoir   \n",
       "4  B00N6PEQV0  The Seven Principles for Making Marriage Work:...   \n",
       "\n",
       "              author                    soldBy  \\\n",
       "0  Lindsay C. Gibson   Amazon.com Services LLC   \n",
       "1   Arthur C. Brooks   Penguin Group (USA) LLC   \n",
       "2      Becky Kennedy  HarperCollins Publishers   \n",
       "3     Dolly Alderton  HarperCollins Publishers   \n",
       "4       John Gottman          Random House LLC   \n",
       "\n",
       "                                              imgUrl  \\\n",
       "0  https://m.media-amazon.com/images/I/713KZTsaYp...   \n",
       "1  https://m.media-amazon.com/images/I/A1LZcJFs9E...   \n",
       "2  https://m.media-amazon.com/images/I/71RIWM0sv6...   \n",
       "3  https://m.media-amazon.com/images/I/71QdQpTiKZ...   \n",
       "4  https://m.media-amazon.com/images/I/813o4WOs+w...   \n",
       "\n",
       "                             productURL  stars  reviews  price  \\\n",
       "0  https://www.amazon.com/dp/B00TZE87S4    4.8        0   9.99   \n",
       "1  https://www.amazon.com/dp/B08WCKY8MB    4.4        0  16.99   \n",
       "2  https://www.amazon.com/dp/B09KPS84CJ    4.8        0  16.99   \n",
       "3  https://www.amazon.com/dp/B07S7QPG6J    4.2        0   9.95   \n",
       "4  https://www.amazon.com/dp/B00N6PEQV0    4.7        0  13.99   \n",
       "\n",
       "   isKindleUnlimited  category_id  isBestSeller  isEditorsPick  \\\n",
       "0              False            6          True          False   \n",
       "1              False            6         False          False   \n",
       "2              False            6         False           True   \n",
       "3               True            6         False           True   \n",
       "4              False            6         False          False   \n",
       "\n",
       "   isGoodReadsChoice publishedDate              category_name  \n",
       "0              False    2015-06-01  Parenting & Relationships  \n",
       "1              False    2022-02-15  Parenting & Relationships  \n",
       "2              False    2022-09-13  Parenting & Relationships  \n",
       "3              False    2020-02-25  Parenting & Relationships  \n",
       "4              False    2015-05-05  Parenting & Relationships  "
      ]
     },
     "execution_count": 92,
     "metadata": {},
     "output_type": "execute_result"
    }
   ],
   "source": [
    "df.head()"
   ]
  },
  {
   "cell_type": "code",
   "execution_count": 93,
   "metadata": {},
   "outputs": [
    {
     "data": {
      "text/plain": [
       "(77800, 16)"
      ]
     },
     "execution_count": 93,
     "metadata": {},
     "output_type": "execute_result"
    }
   ],
   "source": [
    "df.shape"
   ]
  },
  {
   "cell_type": "code",
   "execution_count": 94,
   "metadata": {},
   "outputs": [
    {
     "name": "stdout",
     "output_type": "stream",
     "text": [
      "<class 'pandas.core.frame.DataFrame'>\n",
      "Index: 77800 entries, 0 to 133101\n",
      "Data columns (total 16 columns):\n",
      " #   Column             Non-Null Count  Dtype  \n",
      "---  ------             --------------  -----  \n",
      " 0   asin               77800 non-null  object \n",
      " 1   title              77800 non-null  object \n",
      " 2   author             77800 non-null  object \n",
      " 3   soldBy             77800 non-null  object \n",
      " 4   imgUrl             77800 non-null  object \n",
      " 5   productURL         77800 non-null  object \n",
      " 6   stars              77800 non-null  float64\n",
      " 7   reviews            77800 non-null  int64  \n",
      " 8   price              77800 non-null  float64\n",
      " 9   isKindleUnlimited  77800 non-null  bool   \n",
      " 10  category_id        77800 non-null  int64  \n",
      " 11  isBestSeller       77800 non-null  bool   \n",
      " 12  isEditorsPick      77800 non-null  bool   \n",
      " 13  isGoodReadsChoice  77800 non-null  bool   \n",
      " 14  publishedDate      77800 non-null  object \n",
      " 15  category_name      77800 non-null  object \n",
      "dtypes: bool(4), float64(2), int64(2), object(8)\n",
      "memory usage: 8.0+ MB\n"
     ]
    }
   ],
   "source": [
    "df.info()"
   ]
  },
  {
   "cell_type": "code",
   "execution_count": 95,
   "metadata": {},
   "outputs": [
    {
     "data": {
      "text/plain": [
       "Index(['asin', 'title', 'author', 'soldBy', 'imgUrl', 'productURL', 'stars',\n",
       "       'reviews', 'price', 'isKindleUnlimited', 'category_id', 'isBestSeller',\n",
       "       'isEditorsPick', 'isGoodReadsChoice', 'publishedDate', 'category_name'],\n",
       "      dtype='object')"
      ]
     },
     "execution_count": 95,
     "metadata": {},
     "output_type": "execute_result"
    }
   ],
   "source": [
    "df.columns"
   ]
  },
  {
   "cell_type": "code",
   "execution_count": 96,
   "metadata": {},
   "outputs": [],
   "source": [
    "# removed whitespaces\n",
    "string_cols = ['title', 'author', 'soldBy', 'category_name']\n",
    "df[string_cols] = df[string_cols].apply(lambda x: x.str.strip())"
   ]
  },
  {
   "cell_type": "code",
   "execution_count": 97,
   "metadata": {},
   "outputs": [],
   "source": [
    "# change  the datatype \n",
    "df['publishedDate'] = pd.to_datetime(df['publishedDate'], errors='coerce')"
   ]
  },
  {
   "cell_type": "code",
   "execution_count": 98,
   "metadata": {},
   "outputs": [
    {
     "data": {
      "text/plain": [
       "dtype('<M8[ns]')"
      ]
     },
     "execution_count": 98,
     "metadata": {},
     "output_type": "execute_result"
    }
   ],
   "source": [
    "df['publishedDate'].dtype"
   ]
  },
  {
   "cell_type": "code",
   "execution_count": 99,
   "metadata": {},
   "outputs": [],
   "source": [
    "#rename the columns\n",
    "df.rename(columns={'asin':'product_id','stars':'rating'},inplace=True)"
   ]
  },
  {
   "cell_type": "code",
   "execution_count": 100,
   "metadata": {},
   "outputs": [
    {
     "data": {
      "text/plain": [
       "0"
      ]
     },
     "execution_count": 100,
     "metadata": {},
     "output_type": "execute_result"
    }
   ],
   "source": [
    "df.duplicated().sum()"
   ]
  },
  {
   "cell_type": "code",
   "execution_count": 101,
   "metadata": {},
   "outputs": [
    {
     "name": "stdout",
     "output_type": "stream",
     "text": [
      "<class 'pandas.core.frame.DataFrame'>\n",
      "Index: 77800 entries, 0 to 133101\n",
      "Data columns (total 16 columns):\n",
      " #   Column             Non-Null Count  Dtype         \n",
      "---  ------             --------------  -----         \n",
      " 0   product_id         77800 non-null  object        \n",
      " 1   title              77800 non-null  object        \n",
      " 2   author             77800 non-null  object        \n",
      " 3   soldBy             77800 non-null  object        \n",
      " 4   imgUrl             77800 non-null  object        \n",
      " 5   productURL         77800 non-null  object        \n",
      " 6   rating             77800 non-null  float64       \n",
      " 7   reviews            77800 non-null  int64         \n",
      " 8   price              77800 non-null  float64       \n",
      " 9   isKindleUnlimited  77800 non-null  bool          \n",
      " 10  category_id        77800 non-null  int64         \n",
      " 11  isBestSeller       77800 non-null  bool          \n",
      " 12  isEditorsPick      77800 non-null  bool          \n",
      " 13  isGoodReadsChoice  77800 non-null  bool          \n",
      " 14  publishedDate      77800 non-null  datetime64[ns]\n",
      " 15  category_name      77800 non-null  object        \n",
      "dtypes: bool(4), datetime64[ns](1), float64(2), int64(2), object(7)\n",
      "memory usage: 8.0+ MB\n"
     ]
    }
   ],
   "source": [
    "df.info()"
   ]
  },
  {
   "cell_type": "code",
   "execution_count": 102,
   "metadata": {},
   "outputs": [
    {
     "data": {
      "text/plain": [
       "(77800, 16)"
      ]
     },
     "execution_count": 102,
     "metadata": {},
     "output_type": "execute_result"
    }
   ],
   "source": [
    "df.shape"
   ]
  },
  {
   "cell_type": "code",
   "execution_count": 103,
   "metadata": {},
   "outputs": [],
   "source": [
    "#removed outliners\n",
    "df = df[(df['rating'] >= 0) & (df['rating'] <= 5)] # from rating"
   ]
  },
  {
   "cell_type": "code",
   "execution_count": 104,
   "metadata": {},
   "outputs": [],
   "source": [
    "df = df[(df['price'] > 0) & (df['price'] < 1000)] # from price"
   ]
  },
  {
   "cell_type": "code",
   "execution_count": 105,
   "metadata": {},
   "outputs": [
    {
     "data": {
      "text/plain": [
       "(76826, 16)"
      ]
     },
     "execution_count": 105,
     "metadata": {},
     "output_type": "execute_result"
    }
   ],
   "source": [
    "df.shape"
   ]
  },
  {
   "cell_type": "code",
   "execution_count": 106,
   "metadata": {},
   "outputs": [
    {
     "data": {
      "text/html": [
       "<div>\n",
       "<style scoped>\n",
       "    .dataframe tbody tr th:only-of-type {\n",
       "        vertical-align: middle;\n",
       "    }\n",
       "\n",
       "    .dataframe tbody tr th {\n",
       "        vertical-align: top;\n",
       "    }\n",
       "\n",
       "    .dataframe thead th {\n",
       "        text-align: right;\n",
       "    }\n",
       "</style>\n",
       "<table border=\"1\" class=\"dataframe\">\n",
       "  <thead>\n",
       "    <tr style=\"text-align: right;\">\n",
       "      <th></th>\n",
       "      <th>rating</th>\n",
       "      <th>reviews</th>\n",
       "      <th>price</th>\n",
       "      <th>category_id</th>\n",
       "      <th>publishedDate</th>\n",
       "    </tr>\n",
       "  </thead>\n",
       "  <tbody>\n",
       "    <tr>\n",
       "      <th>count</th>\n",
       "      <td>76826.000000</td>\n",
       "      <td>76826.000000</td>\n",
       "      <td>76826.000000</td>\n",
       "      <td>76826.000000</td>\n",
       "      <td>76826</td>\n",
       "    </tr>\n",
       "    <tr>\n",
       "      <th>mean</th>\n",
       "      <td>4.371831</td>\n",
       "      <td>642.144274</td>\n",
       "      <td>19.609065</td>\n",
       "      <td>15.140590</td>\n",
       "      <td>2018-03-01 18:36:31.320646656</td>\n",
       "    </tr>\n",
       "    <tr>\n",
       "      <th>min</th>\n",
       "      <td>0.000000</td>\n",
       "      <td>0.000000</td>\n",
       "      <td>0.500000</td>\n",
       "      <td>1.000000</td>\n",
       "      <td>1900-01-01 00:00:00</td>\n",
       "    </tr>\n",
       "    <tr>\n",
       "      <th>25%</th>\n",
       "      <td>4.400000</td>\n",
       "      <td>0.000000</td>\n",
       "      <td>8.990000</td>\n",
       "      <td>9.000000</td>\n",
       "      <td>2015-03-02 00:00:00</td>\n",
       "    </tr>\n",
       "    <tr>\n",
       "      <th>50%</th>\n",
       "      <td>4.500000</td>\n",
       "      <td>0.000000</td>\n",
       "      <td>11.990000</td>\n",
       "      <td>14.000000</td>\n",
       "      <td>2019-10-29 00:00:00</td>\n",
       "    </tr>\n",
       "    <tr>\n",
       "      <th>75%</th>\n",
       "      <td>4.700000</td>\n",
       "      <td>189.000000</td>\n",
       "      <td>17.990000</td>\n",
       "      <td>22.000000</td>\n",
       "      <td>2022-06-07 00:00:00</td>\n",
       "    </tr>\n",
       "    <tr>\n",
       "      <th>max</th>\n",
       "      <td>5.000000</td>\n",
       "      <td>618227.000000</td>\n",
       "      <td>682.000000</td>\n",
       "      <td>31.000000</td>\n",
       "      <td>2023-10-17 00:00:00</td>\n",
       "    </tr>\n",
       "    <tr>\n",
       "      <th>std</th>\n",
       "      <td>0.826864</td>\n",
       "      <td>5083.569543</td>\n",
       "      <td>26.406237</td>\n",
       "      <td>8.502889</td>\n",
       "      <td>NaN</td>\n",
       "    </tr>\n",
       "  </tbody>\n",
       "</table>\n",
       "</div>"
      ],
      "text/plain": [
       "             rating        reviews         price   category_id  \\\n",
       "count  76826.000000   76826.000000  76826.000000  76826.000000   \n",
       "mean       4.371831     642.144274     19.609065     15.140590   \n",
       "min        0.000000       0.000000      0.500000      1.000000   \n",
       "25%        4.400000       0.000000      8.990000      9.000000   \n",
       "50%        4.500000       0.000000     11.990000     14.000000   \n",
       "75%        4.700000     189.000000     17.990000     22.000000   \n",
       "max        5.000000  618227.000000    682.000000     31.000000   \n",
       "std        0.826864    5083.569543     26.406237      8.502889   \n",
       "\n",
       "                       publishedDate  \n",
       "count                          76826  \n",
       "mean   2018-03-01 18:36:31.320646656  \n",
       "min              1900-01-01 00:00:00  \n",
       "25%              2015-03-02 00:00:00  \n",
       "50%              2019-10-29 00:00:00  \n",
       "75%              2022-06-07 00:00:00  \n",
       "max              2023-10-17 00:00:00  \n",
       "std                              NaN  "
      ]
     },
     "execution_count": 106,
     "metadata": {},
     "output_type": "execute_result"
    }
   ],
   "source": [
    "df.describe() #checked statistical description"
   ]
  },
  {
   "cell_type": "code",
   "execution_count": 107,
   "metadata": {},
   "outputs": [
    {
     "data": {
      "text/html": [
       "<div>\n",
       "<style scoped>\n",
       "    .dataframe tbody tr th:only-of-type {\n",
       "        vertical-align: middle;\n",
       "    }\n",
       "\n",
       "    .dataframe tbody tr th {\n",
       "        vertical-align: top;\n",
       "    }\n",
       "\n",
       "    .dataframe thead th {\n",
       "        text-align: right;\n",
       "    }\n",
       "</style>\n",
       "<table border=\"1\" class=\"dataframe\">\n",
       "  <thead>\n",
       "    <tr style=\"text-align: right;\">\n",
       "      <th></th>\n",
       "      <th>product_id</th>\n",
       "      <th>title</th>\n",
       "      <th>author</th>\n",
       "      <th>soldBy</th>\n",
       "      <th>imgUrl</th>\n",
       "      <th>productURL</th>\n",
       "      <th>category_name</th>\n",
       "    </tr>\n",
       "  </thead>\n",
       "  <tbody>\n",
       "    <tr>\n",
       "      <th>count</th>\n",
       "      <td>76826</td>\n",
       "      <td>76826</td>\n",
       "      <td>76826</td>\n",
       "      <td>76826</td>\n",
       "      <td>76826</td>\n",
       "      <td>76826</td>\n",
       "      <td>76826</td>\n",
       "    </tr>\n",
       "    <tr>\n",
       "      <th>unique</th>\n",
       "      <td>76826</td>\n",
       "      <td>76276</td>\n",
       "      <td>55711</td>\n",
       "      <td>37</td>\n",
       "      <td>76723</td>\n",
       "      <td>76826</td>\n",
       "      <td>30</td>\n",
       "    </tr>\n",
       "    <tr>\n",
       "      <th>top</th>\n",
       "      <td>B00TZE87S4</td>\n",
       "      <td>Organic Chemistry</td>\n",
       "      <td>DK Eyewitness</td>\n",
       "      <td>Amazon.com Services LLC</td>\n",
       "      <td>https://m.media-amazon.com/images/I/01RmK+J4pJ...</td>\n",
       "      <td>https://www.amazon.com/dp/B00TZE87S4</td>\n",
       "      <td>Science &amp; Math</td>\n",
       "    </tr>\n",
       "    <tr>\n",
       "      <th>freq</th>\n",
       "      <td>1</td>\n",
       "      <td>7</td>\n",
       "      <td>154</td>\n",
       "      <td>48204</td>\n",
       "      <td>90</td>\n",
       "      <td>1</td>\n",
       "      <td>5027</td>\n",
       "    </tr>\n",
       "  </tbody>\n",
       "</table>\n",
       "</div>"
      ],
      "text/plain": [
       "        product_id              title         author                   soldBy  \\\n",
       "count        76826              76826          76826                    76826   \n",
       "unique       76826              76276          55711                       37   \n",
       "top     B00TZE87S4  Organic Chemistry  DK Eyewitness  Amazon.com Services LLC   \n",
       "freq             1                  7            154                    48204   \n",
       "\n",
       "                                                   imgUrl  \\\n",
       "count                                               76826   \n",
       "unique                                              76723   \n",
       "top     https://m.media-amazon.com/images/I/01RmK+J4pJ...   \n",
       "freq                                                   90   \n",
       "\n",
       "                                  productURL   category_name  \n",
       "count                                  76826           76826  \n",
       "unique                                 76826              30  \n",
       "top     https://www.amazon.com/dp/B00TZE87S4  Science & Math  \n",
       "freq                                       1            5027  "
      ]
     },
     "execution_count": 107,
     "metadata": {},
     "output_type": "execute_result"
    }
   ],
   "source": [
    "df.describe(include='object')"
   ]
  },
  {
   "cell_type": "code",
   "execution_count": 108,
   "metadata": {},
   "outputs": [],
   "source": [
    "df.to_csv ('cleaned_kindle_data.csv', index = False)"
   ]
  },
  {
   "cell_type": "markdown",
   "metadata": {},
   "source": [
    "# Exploratory Data Analysis"
   ]
  },
  {
   "cell_type": "code",
   "execution_count": 1,
   "metadata": {},
   "outputs": [],
   "source": [
    "import numpy as np\n",
    "import pandas as pd\n",
    "import matplotlib.pyplot as plt \n",
    "%matplotlib inline\n",
    "import seaborn as sns"
   ]
  },
  {
   "cell_type": "code",
   "execution_count": 2,
   "metadata": {},
   "outputs": [],
   "source": [
    "# load the clean preprocessed dataset\n",
    "cleaned_df = pd.read_csv(r'cleaned_kindle_data.csv')"
   ]
  },
  {
   "cell_type": "code",
   "execution_count": 3,
   "metadata": {},
   "outputs": [
    {
     "data": {
      "text/plain": [
       "product_id            object\n",
       "title                 object\n",
       "author                object\n",
       "soldBy                object\n",
       "imgUrl                object\n",
       "productURL            object\n",
       "rating               float64\n",
       "reviews                int64\n",
       "price                float64\n",
       "isKindleUnlimited       bool\n",
       "category_id            int64\n",
       "isBestSeller            bool\n",
       "isEditorsPick           bool\n",
       "isGoodReadsChoice       bool\n",
       "publishedDate         object\n",
       "category_name         object\n",
       "dtype: object"
      ]
     },
     "execution_count": 3,
     "metadata": {},
     "output_type": "execute_result"
    }
   ],
   "source": [
    "cleaned_df.dtypes"
   ]
  },
  {
   "cell_type": "markdown",
   "metadata": {},
   "source": [
    "## 1. Distribution of ratings"
   ]
  },
  {
   "cell_type": "code",
   "execution_count": 4,
   "metadata": {},
   "outputs": [
    {
     "data": {
      "image/png": "[encoded data removed]",
      "text/plain": [
       "<Figure size 800x600 with 1 Axes>"
      ]
     },
     "metadata": {},
     "output_type": "display_data"
    }
   ],
   "source": [
    "plt.figure(figsize=(8,6))\n",
    "sns.histplot(cleaned_df['rating'], bins=25, kde=True, color='teal')\n",
    "plt.xlabel('Rating')\n",
    "plt.ylabel('Count')\n",
    "plt.title('Distribution of Ratings')\n",
    "plt.show()"
   ]
  },
  {
   "cell_type": "markdown",
   "metadata": {},
   "source": [
    "#### Note: From above graph we can observe that most books have ratings between 4.0 and 5.0, with a peak around 4.5."
   ]
  },
  {
   "cell_type": "markdown",
   "metadata": {},
   "source": [
    "## 2. Relationship between price and rating"
   ]
  },
  {
   "cell_type": "code",
   "execution_count": 5,
   "metadata": {},
   "outputs": [
    {
     "data": {
      "image/png": "[encoded data removed]",
      "text/plain": [
       "<Figure size 800x500 with 1 Axes>"
      ]
     },
     "metadata": {},
     "output_type": "display_data"
    }
   ],
   "source": [
    "plt.figure(figsize=(8,5))\n",
    "sns.scatterplot(x=cleaned_df['price'], y=cleaned_df['rating'], alpha=0.5, color='teal')\n",
    "plt.xlabel('Price')\n",
    "plt.ylabel('Rating')\n",
    "plt.title('Price vs. Rating')\n",
    "plt.show()"
   ]
  },
  {
   "cell_type": "markdown",
   "metadata": {},
   "source": [
    "#### Note: In above graph,  No strong correlation found between Price and Ratings"
   ]
  },
  {
   "cell_type": "markdown",
   "metadata": {},
   "source": [
    "## 3. Top 10 most Reviewed books"
   ]
  },
  {
   "cell_type": "code",
   "execution_count": 6,
   "metadata": {},
   "outputs": [
    {
     "data": {
      "text/html": [
       "<div>\n",
       "<style scoped>\n",
       "    .dataframe tbody tr th:only-of-type {\n",
       "        vertical-align: middle;\n",
       "    }\n",
       "\n",
       "    .dataframe tbody tr th {\n",
       "        vertical-align: top;\n",
       "    }\n",
       "\n",
       "    .dataframe thead th {\n",
       "        text-align: right;\n",
       "    }\n",
       "</style>\n",
       "<table border=\"1\" class=\"dataframe\">\n",
       "  <thead>\n",
       "    <tr style=\"text-align: right;\">\n",
       "      <th></th>\n",
       "      <th>title</th>\n",
       "      <th>author</th>\n",
       "      <th>reviews</th>\n",
       "    </tr>\n",
       "  </thead>\n",
       "  <tbody>\n",
       "    <tr>\n",
       "      <th>19088</th>\n",
       "      <td>Where the Crawdads Sing</td>\n",
       "      <td>Delia Owens</td>\n",
       "      <td>618227</td>\n",
       "    </tr>\n",
       "    <tr>\n",
       "      <th>18973</th>\n",
       "      <td>The Nightingale: A Novel</td>\n",
       "      <td>Kristin Hannah</td>\n",
       "      <td>289251</td>\n",
       "    </tr>\n",
       "    <tr>\n",
       "      <th>18968</th>\n",
       "      <td>Reminders of Him: A Novel</td>\n",
       "      <td>Colleen Hoover</td>\n",
       "      <td>242575</td>\n",
       "    </tr>\n",
       "    <tr>\n",
       "      <th>18979</th>\n",
       "      <td>The Midnight Library: A Novel</td>\n",
       "      <td>Matt Haig</td>\n",
       "      <td>234933</td>\n",
       "    </tr>\n",
       "    <tr>\n",
       "      <th>19063</th>\n",
       "      <td>Eleanor Oliphant Is Completely Fine: A Novel</td>\n",
       "      <td>Gail Honeyman</td>\n",
       "      <td>227722</td>\n",
       "    </tr>\n",
       "    <tr>\n",
       "      <th>19186</th>\n",
       "      <td>Beneath a Scarlet Sky: A Novel</td>\n",
       "      <td>Mark Sullivan</td>\n",
       "      <td>223114</td>\n",
       "    </tr>\n",
       "    <tr>\n",
       "      <th>18952</th>\n",
       "      <td>Lessons in Chemistry: A Novel</td>\n",
       "      <td>Bonnie Garmus</td>\n",
       "      <td>219990</td>\n",
       "    </tr>\n",
       "    <tr>\n",
       "      <th>19003</th>\n",
       "      <td>All the Light We Cannot See: A Novel</td>\n",
       "      <td>Anthony Doerr</td>\n",
       "      <td>216532</td>\n",
       "    </tr>\n",
       "    <tr>\n",
       "      <th>32933</th>\n",
       "      <td>Educated: A Memoir</td>\n",
       "      <td>Tara Westover</td>\n",
       "      <td>209864</td>\n",
       "    </tr>\n",
       "    <tr>\n",
       "      <th>18965</th>\n",
       "      <td>The Seven Husbands of Evelyn Hugo: A Novel</td>\n",
       "      <td>Taylor Jenkins Reid</td>\n",
       "      <td>202512</td>\n",
       "    </tr>\n",
       "  </tbody>\n",
       "</table>\n",
       "</div>"
      ],
      "text/plain": [
       "                                              title               author  \\\n",
       "19088                       Where the Crawdads Sing          Delia Owens   \n",
       "18973                      The Nightingale: A Novel       Kristin Hannah   \n",
       "18968                     Reminders of Him: A Novel       Colleen Hoover   \n",
       "18979                 The Midnight Library: A Novel            Matt Haig   \n",
       "19063  Eleanor Oliphant Is Completely Fine: A Novel        Gail Honeyman   \n",
       "19186                Beneath a Scarlet Sky: A Novel        Mark Sullivan   \n",
       "18952                 Lessons in Chemistry: A Novel        Bonnie Garmus   \n",
       "19003          All the Light We Cannot See: A Novel        Anthony Doerr   \n",
       "32933                            Educated: A Memoir        Tara Westover   \n",
       "18965    The Seven Husbands of Evelyn Hugo: A Novel  Taylor Jenkins Reid   \n",
       "\n",
       "       reviews  \n",
       "19088   618227  \n",
       "18973   289251  \n",
       "18968   242575  \n",
       "18979   234933  \n",
       "19063   227722  \n",
       "19186   223114  \n",
       "18952   219990  \n",
       "19003   216532  \n",
       "32933   209864  \n",
       "18965   202512  "
      ]
     },
     "execution_count": 6,
     "metadata": {},
     "output_type": "execute_result"
    }
   ],
   "source": [
    "top_reviewed_books = cleaned_df.nlargest(10, 'reviews')[['title', 'author', 'reviews']]\n",
    "top_reviewed_books"
   ]
  },
  {
   "cell_type": "markdown",
   "metadata": {},
   "source": [
    "#### Note: The above table shows \"Where the Crawdads Sing\" is top reviewed book."
   ]
  },
  {
   "cell_type": "markdown",
   "metadata": {},
   "source": [
    "## 4. Top 10 most Rated books"
   ]
  },
  {
   "cell_type": "code",
   "execution_count": 7,
   "metadata": {},
   "outputs": [
    {
     "data": {
      "text/html": [
       "<div>\n",
       "<style scoped>\n",
       "    .dataframe tbody tr th:only-of-type {\n",
       "        vertical-align: middle;\n",
       "    }\n",
       "\n",
       "    .dataframe tbody tr th {\n",
       "        vertical-align: top;\n",
       "    }\n",
       "\n",
       "    .dataframe thead th {\n",
       "        text-align: right;\n",
       "    }\n",
       "</style>\n",
       "<table border=\"1\" class=\"dataframe\">\n",
       "  <thead>\n",
       "    <tr style=\"text-align: right;\">\n",
       "      <th></th>\n",
       "      <th>title</th>\n",
       "      <th>author</th>\n",
       "      <th>rating</th>\n",
       "      <th>price</th>\n",
       "    </tr>\n",
       "  </thead>\n",
       "  <tbody>\n",
       "    <tr>\n",
       "      <th>22</th>\n",
       "      <td>Birdie &amp; Harlow: Life, Loss, and Loving My Dog...</td>\n",
       "      <td>Taylor Wolfe</td>\n",
       "      <td>5.0</td>\n",
       "      <td>13.99</td>\n",
       "    </tr>\n",
       "    <tr>\n",
       "      <th>62</th>\n",
       "      <td>The Worry-Free Parent: Living in Confidence So...</td>\n",
       "      <td>Sissy Goff</td>\n",
       "      <td>5.0</td>\n",
       "      <td>9.99</td>\n",
       "    </tr>\n",
       "    <tr>\n",
       "      <th>145</th>\n",
       "      <td>Raising Kids with Big, Baffling Behaviors: Bra...</td>\n",
       "      <td>Robyn Gobbel</td>\n",
       "      <td>5.0</td>\n",
       "      <td>9.99</td>\n",
       "    </tr>\n",
       "    <tr>\n",
       "      <th>157</th>\n",
       "      <td>Unfinished Business: Breaking Down the Great W...</td>\n",
       "      <td>Amy C. Yip</td>\n",
       "      <td>5.0</td>\n",
       "      <td>9.99</td>\n",
       "    </tr>\n",
       "    <tr>\n",
       "      <th>173</th>\n",
       "      <td>Woven: Nurturing a Faith Your Kid Doesn't Have...</td>\n",
       "      <td>Meredith Miller</td>\n",
       "      <td>5.0</td>\n",
       "      <td>13.99</td>\n",
       "    </tr>\n",
       "    <tr>\n",
       "      <th>204</th>\n",
       "      <td>Autism Spectrum Disorders from Theory to Pract...</td>\n",
       "      <td>Belinda Daughrity</td>\n",
       "      <td>5.0</td>\n",
       "      <td>56.00</td>\n",
       "    </tr>\n",
       "    <tr>\n",
       "      <th>222</th>\n",
       "      <td>Raising Spiritual Champions: Nurturing Your Ch...</td>\n",
       "      <td>Dr. George Barna</td>\n",
       "      <td>5.0</td>\n",
       "      <td>9.99</td>\n",
       "    </tr>\n",
       "    <tr>\n",
       "      <th>301</th>\n",
       "      <td>Raising Conservative Kids in a Woke City: Teac...</td>\n",
       "      <td>Stacy Manning</td>\n",
       "      <td>5.0</td>\n",
       "      <td>9.99</td>\n",
       "    </tr>\n",
       "    <tr>\n",
       "      <th>348</th>\n",
       "      <td>sparkle &amp; GRIT: Live a Technicolor Life By Fin...</td>\n",
       "      <td>Wendy Meadows</td>\n",
       "      <td>5.0</td>\n",
       "      <td>9.99</td>\n",
       "    </tr>\n",
       "    <tr>\n",
       "      <th>403</th>\n",
       "      <td>Reading Jane: A Daughter's Memoir</td>\n",
       "      <td>Susannah Kennedy</td>\n",
       "      <td>5.0</td>\n",
       "      <td>9.99</td>\n",
       "    </tr>\n",
       "  </tbody>\n",
       "</table>\n",
       "</div>"
      ],
      "text/plain": [
       "                                                 title             author  \\\n",
       "22   Birdie & Harlow: Life, Loss, and Loving My Dog...       Taylor Wolfe   \n",
       "62   The Worry-Free Parent: Living in Confidence So...         Sissy Goff   \n",
       "145  Raising Kids with Big, Baffling Behaviors: Bra...       Robyn Gobbel   \n",
       "157  Unfinished Business: Breaking Down the Great W...         Amy C. Yip   \n",
       "173  Woven: Nurturing a Faith Your Kid Doesn't Have...    Meredith Miller   \n",
       "204  Autism Spectrum Disorders from Theory to Pract...  Belinda Daughrity   \n",
       "222  Raising Spiritual Champions: Nurturing Your Ch...   Dr. George Barna   \n",
       "301  Raising Conservative Kids in a Woke City: Teac...      Stacy Manning   \n",
       "348  sparkle & GRIT: Live a Technicolor Life By Fin...      Wendy Meadows   \n",
       "403                  Reading Jane: A Daughter's Memoir   Susannah Kennedy   \n",
       "\n",
       "     rating  price  \n",
       "22      5.0  13.99  \n",
       "62      5.0   9.99  \n",
       "145     5.0   9.99  \n",
       "157     5.0   9.99  \n",
       "173     5.0  13.99  \n",
       "204     5.0  56.00  \n",
       "222     5.0   9.99  \n",
       "301     5.0   9.99  \n",
       "348     5.0   9.99  \n",
       "403     5.0   9.99  "
      ]
     },
     "execution_count": 7,
     "metadata": {},
     "output_type": "execute_result"
    }
   ],
   "source": [
    "top_rated_books = cleaned_df.nlargest(10,'rating')[['title','author','rating','price']]\n",
    "top_rated_books\n"
   ]
  },
  {
   "cell_type": "markdown",
   "metadata": {},
   "source": [
    "#### Note: The above table shows \"Birdie & Harlow: Life, Loss, and Loving My Dog So Much I Didn't Want Kids (â¦Until I Did)\" is top rated book."
   ]
  },
  {
   "cell_type": "markdown",
   "metadata": {},
   "source": [
    "\n",
    "## 5. Average rating and price per category"
   ]
  },
  {
   "cell_type": "code",
   "execution_count": 116,
   "metadata": {},
   "outputs": [
    {
     "data": {
      "text/html": [
       "<div>\n",
       "<style scoped>\n",
       "    .dataframe tbody tr th:only-of-type {\n",
       "        vertical-align: middle;\n",
       "    }\n",
       "\n",
       "    .dataframe tbody tr th {\n",
       "        vertical-align: top;\n",
       "    }\n",
       "\n",
       "    .dataframe thead th {\n",
       "        text-align: right;\n",
       "    }\n",
       "</style>\n",
       "<table border=\"1\" class=\"dataframe\">\n",
       "  <thead>\n",
       "    <tr style=\"text-align: right;\">\n",
       "      <th></th>\n",
       "      <th>category_name</th>\n",
       "      <th>rating</th>\n",
       "      <th>price</th>\n",
       "    </tr>\n",
       "  </thead>\n",
       "  <tbody>\n",
       "    <tr>\n",
       "      <th>9</th>\n",
       "      <td>Foreign Language</td>\n",
       "      <td>4.800000</td>\n",
       "      <td>7.990000</td>\n",
       "    </tr>\n",
       "    <tr>\n",
       "      <th>3</th>\n",
       "      <td>Comics</td>\n",
       "      <td>4.750000</td>\n",
       "      <td>9.040000</td>\n",
       "    </tr>\n",
       "    <tr>\n",
       "      <th>22</th>\n",
       "      <td>Religion &amp; Spirituality</td>\n",
       "      <td>4.637099</td>\n",
       "      <td>11.793923</td>\n",
       "    </tr>\n",
       "    <tr>\n",
       "      <th>18</th>\n",
       "      <td>Nonfiction</td>\n",
       "      <td>4.569198</td>\n",
       "      <td>14.980774</td>\n",
       "    </tr>\n",
       "    <tr>\n",
       "      <th>26</th>\n",
       "      <td>Self-Help</td>\n",
       "      <td>4.528849</td>\n",
       "      <td>10.776323</td>\n",
       "    </tr>\n",
       "    <tr>\n",
       "      <th>10</th>\n",
       "      <td>Health, Fitness &amp; Dieting</td>\n",
       "      <td>4.507209</td>\n",
       "      <td>20.117929</td>\n",
       "    </tr>\n",
       "    <tr>\n",
       "      <th>19</th>\n",
       "      <td>Parenting &amp; Relationships</td>\n",
       "      <td>4.465967</td>\n",
       "      <td>11.287594</td>\n",
       "    </tr>\n",
       "    <tr>\n",
       "      <th>6</th>\n",
       "      <td>Crafts, Hobbies &amp; Home</td>\n",
       "      <td>4.459853</td>\n",
       "      <td>12.462850</td>\n",
       "    </tr>\n",
       "    <tr>\n",
       "      <th>27</th>\n",
       "      <td>Sports &amp; Outdoors</td>\n",
       "      <td>4.459072</td>\n",
       "      <td>13.181568</td>\n",
       "    </tr>\n",
       "    <tr>\n",
       "      <th>1</th>\n",
       "      <td>Biographies &amp; Memoirs</td>\n",
       "      <td>4.451885</td>\n",
       "      <td>11.617580</td>\n",
       "    </tr>\n",
       "    <tr>\n",
       "      <th>24</th>\n",
       "      <td>Science &amp; Math</td>\n",
       "      <td>4.445355</td>\n",
       "      <td>34.129475</td>\n",
       "    </tr>\n",
       "    <tr>\n",
       "      <th>20</th>\n",
       "      <td>Politics &amp; Social Sciences</td>\n",
       "      <td>4.440642</td>\n",
       "      <td>19.483243</td>\n",
       "    </tr>\n",
       "    <tr>\n",
       "      <th>11</th>\n",
       "      <td>History</td>\n",
       "      <td>4.435776</td>\n",
       "      <td>14.159253</td>\n",
       "    </tr>\n",
       "    <tr>\n",
       "      <th>2</th>\n",
       "      <td>Business &amp; Money</td>\n",
       "      <td>4.435113</td>\n",
       "      <td>26.430245</td>\n",
       "    </tr>\n",
       "    <tr>\n",
       "      <th>28</th>\n",
       "      <td>Teen &amp; Young Adult</td>\n",
       "      <td>4.422774</td>\n",
       "      <td>9.361959</td>\n",
       "    </tr>\n",
       "    <tr>\n",
       "      <th>0</th>\n",
       "      <td>Arts &amp; Photo graphy</td>\n",
       "      <td>4.403698</td>\n",
       "      <td>16.590660</td>\n",
       "    </tr>\n",
       "    <tr>\n",
       "      <th>15</th>\n",
       "      <td>Literature &amp; Fiction</td>\n",
       "      <td>4.402950</td>\n",
       "      <td>9.284906</td>\n",
       "    </tr>\n",
       "    <tr>\n",
       "      <th>5</th>\n",
       "      <td>Cookbooks, Food &amp; Wine</td>\n",
       "      <td>4.394022</td>\n",
       "      <td>11.083050</td>\n",
       "    </tr>\n",
       "    <tr>\n",
       "      <th>23</th>\n",
       "      <td>Romance</td>\n",
       "      <td>4.384574</td>\n",
       "      <td>6.213218</td>\n",
       "    </tr>\n",
       "    <tr>\n",
       "      <th>25</th>\n",
       "      <td>Science Fiction &amp; Fantasy</td>\n",
       "      <td>4.375186</td>\n",
       "      <td>8.358908</td>\n",
       "    </tr>\n",
       "    <tr>\n",
       "      <th>13</th>\n",
       "      <td>LGBTQ+ eBooks</td>\n",
       "      <td>4.368999</td>\n",
       "      <td>7.364409</td>\n",
       "    </tr>\n",
       "    <tr>\n",
       "      <th>7</th>\n",
       "      <td>Education &amp; Teaching</td>\n",
       "      <td>4.365048</td>\n",
       "      <td>26.765975</td>\n",
       "    </tr>\n",
       "    <tr>\n",
       "      <th>12</th>\n",
       "      <td>Humor &amp; Entertainment</td>\n",
       "      <td>4.346212</td>\n",
       "      <td>11.049458</td>\n",
       "    </tr>\n",
       "    <tr>\n",
       "      <th>21</th>\n",
       "      <td>Reference</td>\n",
       "      <td>4.310431</td>\n",
       "      <td>19.816147</td>\n",
       "    </tr>\n",
       "    <tr>\n",
       "      <th>16</th>\n",
       "      <td>Medical</td>\n",
       "      <td>4.306034</td>\n",
       "      <td>41.353562</td>\n",
       "    </tr>\n",
       "    <tr>\n",
       "      <th>17</th>\n",
       "      <td>Mystery, Thriller &amp; Suspense</td>\n",
       "      <td>4.274306</td>\n",
       "      <td>8.934391</td>\n",
       "    </tr>\n",
       "    <tr>\n",
       "      <th>29</th>\n",
       "      <td>Travel</td>\n",
       "      <td>4.265321</td>\n",
       "      <td>10.667138</td>\n",
       "    </tr>\n",
       "    <tr>\n",
       "      <th>4</th>\n",
       "      <td>Computers &amp; Technology</td>\n",
       "      <td>4.218186</td>\n",
       "      <td>25.396775</td>\n",
       "    </tr>\n",
       "    <tr>\n",
       "      <th>8</th>\n",
       "      <td>Engineering &amp; Transportation</td>\n",
       "      <td>4.159680</td>\n",
       "      <td>29.470507</td>\n",
       "    </tr>\n",
       "    <tr>\n",
       "      <th>14</th>\n",
       "      <td>Law</td>\n",
       "      <td>4.008537</td>\n",
       "      <td>46.535302</td>\n",
       "    </tr>\n",
       "  </tbody>\n",
       "</table>\n",
       "</div>"
      ],
      "text/plain": [
       "                   category_name    rating      price\n",
       "9               Foreign Language  4.800000   7.990000\n",
       "3                         Comics  4.750000   9.040000\n",
       "22       Religion & Spirituality  4.637099  11.793923\n",
       "18                    Nonfiction  4.569198  14.980774\n",
       "26                     Self-Help  4.528849  10.776323\n",
       "10     Health, Fitness & Dieting  4.507209  20.117929\n",
       "19     Parenting & Relationships  4.465967  11.287594\n",
       "6         Crafts, Hobbies & Home  4.459853  12.462850\n",
       "27             Sports & Outdoors  4.459072  13.181568\n",
       "1          Biographies & Memoirs  4.451885  11.617580\n",
       "24                Science & Math  4.445355  34.129475\n",
       "20    Politics & Social Sciences  4.440642  19.483243\n",
       "11                       History  4.435776  14.159253\n",
       "2               Business & Money  4.435113  26.430245\n",
       "28            Teen & Young Adult  4.422774   9.361959\n",
       "0            Arts & Photo graphy  4.403698  16.590660\n",
       "15          Literature & Fiction  4.402950   9.284906\n",
       "5         Cookbooks, Food & Wine  4.394022  11.083050\n",
       "23                       Romance  4.384574   6.213218\n",
       "25     Science Fiction & Fantasy  4.375186   8.358908\n",
       "13                 LGBTQ+ eBooks  4.368999   7.364409\n",
       "7           Education & Teaching  4.365048  26.765975\n",
       "12         Humor & Entertainment  4.346212  11.049458\n",
       "21                     Reference  4.310431  19.816147\n",
       "16                       Medical  4.306034  41.353562\n",
       "17  Mystery, Thriller & Suspense  4.274306   8.934391\n",
       "29                        Travel  4.265321  10.667138\n",
       "4         Computers & Technology  4.218186  25.396775\n",
       "8   Engineering & Transportation  4.159680  29.470507\n",
       "14                           Law  4.008537  46.535302"
      ]
     },
     "execution_count": 116,
     "metadata": {},
     "output_type": "execute_result"
    }
   ],
   "source": [
    "category_stats = cleaned_df.groupby('category_name').agg({'rating': 'mean', 'price': 'mean'}).reset_index()\n",
    "category_stats = category_stats.sort_values(by='rating', ascending=False)\n",
    "category_stats"
   ]
  },
  {
   "cell_type": "markdown",
   "metadata": {},
   "source": [
    "#### Note: from the above Table we can observe that Categories- \"Foreign Language\" (4.8) and \"Comics\" (4.75) have the highest average ratings."
   ]
  },
  {
   "cell_type": "markdown",
   "metadata": {},
   "source": [
    "## 6. Kindle Unlimited vs. Non-Kindle Unlimited"
   ]
  },
  {
   "cell_type": "code",
   "execution_count": 125,
   "metadata": {},
   "outputs": [
    {
     "data": {
      "image/png": "[encoded data removed]",
      "text/plain": [
       "<Figure size 800x500 with 1 Axes>"
      ]
     },
     "metadata": {},
     "output_type": "display_data"
    }
   ],
   "source": [
    "# Count the number of Kindle Unlimited and Non-Kindle Unlimited books\n",
    "ku_counts = cleaned_df['isKindleUnlimited'].value_counts()\n",
    "\n",
    "# Define labels and colors\n",
    "labels = ['Non-Kindle Unlimited', 'Kindle Unlimited']\n",
    "colors = ['teal', 'darkslategrey']\n",
    "\n",
    "# Create a bar chart\n",
    "plt.figure(figsize=(8,5)) \n",
    "plt.bar(labels, ku_counts, color=colors) \n",
    "plt.ylabel('Count')\n",
    "plt.title('Kindle Unlimited vs. Non-Kindle Unlimited')\n",
    "plt.show()\n"
   ]
  },
  {
   "cell_type": "markdown",
   "metadata": {},
   "source": [
    "#### Note: In above bar graph we can see that there is more Non-Kindle Unlimited books in comparison to Kindle Unlimited."
   ]
  },
  {
   "cell_type": "markdown",
   "metadata": {},
   "source": [
    "## 7. Percentage of Bestsellers, Editors' Picks, and Goodreads Choice"
   ]
  },
  {
   "cell_type": "code",
   "execution_count": 126,
   "metadata": {},
   "outputs": [
    {
     "data": {
      "image/png": "[encoded data removed]",
      "text/plain": [
       "<Figure size 640x480 with 1 Axes>"
      ]
     },
     "metadata": {},
     "output_type": "display_data"
    }
   ],
   "source": [
    "labels = ['BestSeller', 'Editors Pick', 'GoodReads Choice']\n",
    "sizes = [cleaned_df['isBestSeller'].sum(), cleaned_df['isEditorsPick'].sum(), cleaned_df['isGoodReadsChoice'].sum()]\n",
    "\n",
    "plt.pie(sizes, labels=labels, autopct='%1.1f%%', colors=['mediumaquamarine', 'teal', 'cadetblue'])\n",
    "plt.title('Percentage of Special Book Categories')\n",
    "plt.show()"
   ]
  },
  {
   "cell_type": "markdown",
   "metadata": {},
   "source": [
    "#### Note: In above pie chart we can see that Majority of books are labeled as Editor's Pick(66.2%) and rest small percentage fall under BestSeller and GoodReads Choice Categories."
   ]
  },
  {
   "cell_type": "markdown",
   "metadata": {},
   "source": [
    "## 8. Number of books published over time"
   ]
  },
  {
   "cell_type": "code",
   "execution_count": 127,
   "metadata": {},
   "outputs": [
    {
     "data": {
      "image/png": "[encoded data removed]",
      "text/plain": [
       "<Figure size 800x500 with 1 Axes>"
      ]
     },
     "metadata": {},
     "output_type": "display_data"
    }
   ],
   "source": [
    "cleaned_df['publishedDate'] = pd.to_datetime(cleaned_df['publishedDate'], errors='coerce')\n",
    "cleaned_df['year'] = cleaned_df['publishedDate'].dt.year\n",
    "books_per_year = cleaned_df['year'].value_counts().sort_index()\n",
    "\n",
    "plt.figure(figsize=(8,5))\n",
    "sns.lineplot(x=books_per_year.index, y=books_per_year.values, marker='o',color='teal')\n",
    "plt.xlabel('Year')\n",
    "plt.ylabel('Number of Books Published')\n",
    "plt.title('Books Published Over Time')\n",
    "plt.show()"
   ]
  },
  {
   "cell_type": "markdown",
   "metadata": {},
   "source": [
    "#### Note: The above Line chart suggests that the number of books published has been increasing over the years."
   ]
  },
  {
   "cell_type": "markdown",
   "metadata": {},
   "source": [
    "## 9. Top publishers by number of books"
   ]
  },
  {
   "cell_type": "code",
   "execution_count": 128,
   "metadata": {},
   "outputs": [
    {
     "data": {
      "image/png": "[encoded data removed]",
      "text/plain": [
       "<Figure size 640x480 with 1 Axes>"
      ]
     },
     "metadata": {},
     "output_type": "display_data"
    }
   ],
   "source": [
    "top_publishers = cleaned_df['soldBy'].value_counts().head(10)\n",
    "top_publishers.plot(kind='bar', color='teal')\n",
    "plt.xlabel('Publishers')\n",
    "plt.ylabel('Number of Books')\n",
    "plt.xticks(rotation=45, ha='right')\n",
    "plt.title('Top 10 Publishers by Number of Books')\n",
    "plt.show()"
   ]
  },
  {
   "cell_type": "markdown",
   "metadata": {},
   "source": [
    "#### Note: In above bar chart we can see Top 10 publishers having maximum number of books published. And From those Majority of books are published By Amazon.com services LLC."
   ]
  },
  {
   "cell_type": "markdown",
   "metadata": {},
   "source": [
    "### **CONCLUSION:**"
   ]
  },
  {
   "cell_type": "markdown",
   "metadata": {},
   "source": [
    "### The Data Analysis reveals that Kindle books generally have high ratings *(4.0-5.0)*, with *Foriegn language and Comics* leading in ratings. While there is no strong correlation between price and rating,there is more Non-Kindle Unlimited books in comparison to Kindle Unlimited, Majority of books are labeled as Editor's Pick *(66.2%)* and rest small percentage fall under BestSeller and GoodReads Choice Categories and the number of books published has *increased* over time."
   ]
  },
  {
   "cell_type": "markdown",
   "metadata": {},
   "source": []
  }
 ],
 "metadata": {
  "kernelspec": {
   "display_name": "base",
   "language": "python",
   "name": "python3"
  },
  "language_info": {
   "codemirror_mode": {
    "name": "ipython",
    "version": 3
   },
   "file_extension": ".py",
   "mimetype": "text/x-python",
   "name": "python",
   "nbconvert_exporter": "python",
   "pygments_lexer": "ipython3",
   "version": "3.12.7"
  }
 },
 "nbformat": 4,
 "nbformat_minor": 2
}
